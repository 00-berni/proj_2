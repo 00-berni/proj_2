{
 "cells": [
  {
   "cell_type": "markdown",
   "metadata": {},
   "source": [
    "Test Function\n"
   ]
  },
  {
   "cell_type": "code",
   "execution_count": null,
   "metadata": {},
   "outputs": [],
   "source": [
    "import numpy as np\n",
    "import matplotlib.pyplot as plt\n",
    "import random as rnd\n",
    "\n",
    "'''\n",
    "Funzioni che devo implementare:\n",
    "\t- generazione\tIMF  = (m/m0)^-alpha\talpha = 2\n",
    "\t  distrubuzione\tm/m0 = IMF^(-1/alpha)\n",
    "\t  m in [0.1,20]\n",
    "\t- luminosità\tL/L0 = (m/m0)^beta\tbeta  = 3\n",
    "\t- \n",
    "\n",
    "'''\n",
    "# dimension of the matrix\n",
    "N = int(1e2)\n",
    "# number of stars\n",
    "M = int(2e1)\n",
    "# field\n",
    "F = np.zeros((N,N))\n",
    "\n",
    "# Set parameters\n",
    "alpha = 2\n",
    "beta  = 3\n",
    "m_min = 0.1; m_max = 20\n",
    "\n",
    "IMF = lambda m : m**(-alpha)\n",
    "IMF_min = IMF(0.1); IMF_max = IMF(20) \n",
    "\n",
    "plt.imshow(F,cmap=plt.cm.gray)\n",
    "plt.show()\n",
    "\n"
   ]
  },
  {
   "cell_type": "code",
   "execution_count": null,
   "metadata": {},
   "outputs": [],
   "source": [
    "def random_mass(min,max):\n",
    "\trnd.seed()\n",
    "\timf = rnd.uniform(min,max)\n",
    "\treturn imf**(-1/alpha)\n",
    "\n",
    "def generate_mass_array(min,max):\n",
    "\tm = []\n",
    "\tfor i in range(0,M):\n",
    "\t\tm.append(random_mass(min,max))\n",
    "\treturn np.array(m)\n",
    "\n",
    "m = generate_mass_array(IMF_min,IMF_max)\n",
    "\n",
    "\n",
    "print(min(m), max(m))\n",
    "\n",
    "plt.title(f'Mass distribution with $\\\\alpha = {alpha}$ and {M} stars')\n",
    "plt.plot(m)\n",
    "\n",
    "plt.show()\n",
    "\n"
   ]
  },
  {
   "cell_type": "code",
   "execution_count": null,
   "metadata": {},
   "outputs": [],
   "source": [
    "L = m**beta\n",
    "\n",
    "plt.title(f'Luminosity distribution with $\\\\beta = {beta}$ for {M} stars')\n",
    "plt.plot(L)\n",
    "\n",
    "plt.show()"
   ]
  },
  {
   "cell_type": "code",
   "execution_count": null,
   "metadata": {},
   "outputs": [],
   "source": [
    "class star(object):\n",
    "\tdef __init__(self,mass, lum, x ,y):\n",
    "\t\tself.m   = mass\t\t# star mass value\n",
    "\t\tself.lum = lum\t\t# star luminosity value\n",
    "\t\tself.x = x\t\t# star x coordinate\n",
    "\t\tself.y = y\t\t# star y coordinate\n",
    "\n",
    "def star_location(n):\n",
    "\tX = []; Y = []\n",
    "\tfor i in range(0,n):\n",
    "\t\tx = rnd.randint(0,N)\n",
    "\t\ty = rnd.randint(0,N)\n",
    "\t\twhile(x in X and y in Y):\n",
    "\t\t\tx = rnd.randint(0,N)\n",
    "\t\t\ty = rnd.randint(0,N)\n",
    "\t\tX.append(x); Y.append(Y)\n",
    "\tX = np.array(X); Y = np.array(Y)\n",
    "\treturn X, Y\t\n",
    "\n",
    "\n",
    "def initialize(F):\n",
    "\tm = generate_mass_array(IMF_min,IMF_max)\n",
    "\tL = m**beta\n",
    "\txs,ys = star_location(M)\n",
    "\tS = star(m,L,xs,ys)\n",
    "\tfor i in range(0,M):\n",
    "\t\tF[xs[i]][ys[i]] = L[i]\n",
    "\treturn F, S\n",
    "\t\t\n",
    "X, Y = star_location(M)\n",
    "#F, S = initialize(F)\n",
    "#plt.imshow(F,cmap=plt.cm.gray)\n",
    "plt.show()\n"
   ]
  }
 ],
 "metadata": {
  "interpreter": {
   "hash": "acfa3814b7ad23a48d23eb256325201ba56e27002f80dd84657cbe2e83ce68d0"
  },
  "kernelspec": {
   "display_name": "Python 3.9.11 64-bit (windows store)",
   "language": "python",
   "name": "python3"
  },
  "language_info": {
   "codemirror_mode": {
    "name": "ipython",
    "version": 3
   },
   "file_extension": ".py",
   "mimetype": "text/x-python",
   "name": "python",
   "nbconvert_exporter": "python",
   "pygments_lexer": "ipython3",
   "version": "3.9.11"
  },
  "orig_nbformat": 4
 },
 "nbformat": 4,
 "nbformat_minor": 2
}
