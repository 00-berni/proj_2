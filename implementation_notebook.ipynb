{
 "cells": [
  {
   "cell_type": "markdown",
   "metadata": {},
   "source": [
    "Test Function\n"
   ]
  },
  {
   "cell_type": "markdown",
   "metadata": {},
   "source": [
    "First cell: I defined the parameters like the dimensions of field, the number of stars and exponent of the potential laws and the IMF function"
   ]
  },
  {
   "cell_type": "code",
   "execution_count": 2,
   "metadata": {},
   "outputs": [],
   "source": [
    "# FIRST CELL\n",
    "import numpy as np\n",
    "import matplotlib.pyplot as plt\n",
    "import random as rnd\n",
    "from scipy.signal import fftconvolve\n",
    "#import cython as cpy\n",
    "\n",
    "'''\n",
    "Funzioni che devo implementare:\n",
    "\t- generazione\tIMF  = (m/m0)^-alpha\talpha = 2\n",
    "\t  distrubuzione\tm/m0 = IMF^(-1/alpha)\n",
    "\t  m in [0.1,20]\n",
    "\t- luminosità\tL/L0 = (m/m0)^beta\tbeta  = 3\n",
    "\t- \n",
    "\n",
    "'''\n",
    "# dimension of the matrix\n",
    "N = int(1e1)\n",
    "# number of stars\n",
    "M = int(1)\n",
    "\n",
    "# Set parameters\n",
    "alpha = 2\n",
    "beta  = 3\n",
    "m_min = 0.1; m_max = 20\n",
    "\n",
    "IMF = lambda m : m**(-alpha)\n",
    "IMF_min = IMF(0.1); IMF_max = IMF(20) \n",
    "\n",
    "\n"
   ]
  },
  {
   "cell_type": "markdown",
   "metadata": {},
   "source": [
    "Second and Third cells: I defined the function for the random generation of the masses and I created the luminosity array"
   ]
  },
  {
   "cell_type": "code",
   "execution_count": 4,
   "metadata": {},
   "outputs": [
    {
     "name": "stdout",
     "output_type": "stream",
     "text": [
      "0.1497112841581918 0.1497112841581918\n"
     ]
    },
    {
     "data": {
      "image/png": "[encoded data removed]",
      "text/plain": [
       "<Figure size 432x288 with 1 Axes>"
      ]
     },
     "metadata": {},
     "output_type": "display_data"
    }
   ],
   "source": [
    "# SECOND CELL\n",
    "##* Genration of masses array with IMF distribution\n",
    "#\tparam\tmin\tminimum imf value\n",
    "# \tparam\tmax\tmaximum\timf value\n",
    "# \n",
    "# \treturn\tm\tM array of masses distributed like imf   \n",
    "def generate_mass_array(min,max):\n",
    "\tnp.random.seed()\n",
    "\timf = np.random.rand(M)*(max-min)+min\n",
    "\treturn imf**(-1/alpha)\n",
    "\n",
    "# masses\n",
    "m = generate_mass_array(IMF_min,IMF_max)\n",
    "\n",
    "\n",
    "# Plot data\n",
    "print(min(m), max(m))\n",
    "\n",
    "plt.title(f'Mass distribution with $\\\\alpha = {alpha}$ and {M} stars')\n",
    "plt.plot(m,'o-')\n",
    "\n",
    "plt.show()\n",
    "\n"
   ]
  },
  {
   "cell_type": "code",
   "execution_count": 5,
   "metadata": {},
   "outputs": [
    {
     "name": "stdout",
     "output_type": "stream",
     "text": [
      "0.0010000000000000002 8000\n",
      "0.0033555491671882964 0.0033555491671882964\n"
     ]
    },
    {
     "data": {
      "image/png": "[encoded data removed]",
      "text/plain": [
       "<Figure size 432x288 with 1 Axes>"
      ]
     },
     "metadata": {},
     "output_type": "display_data"
    }
   ],
   "source": [
    "# THIRD CELL\n",
    "# luminosuities\n",
    "L = m**beta\n",
    "\n",
    "# Plot data\n",
    "print(0.1**beta,20**beta)\n",
    "print(min(L), max(L))\n",
    "plt.title(f'Luminosity distribution with $\\\\beta = {beta}$ for {M} stars')\n",
    "plt.plot(L,'o-')\n",
    "\n",
    "plt.show()"
   ]
  },
  {
   "cell_type": "markdown",
   "metadata": {},
   "source": [
    "Fourth cell: I defined the star class obj, a class that contains all infos about star (mass,lum and position), the function to set stars positions and the function to update the field matrix with the stars luminosities in mag"
   ]
  },
  {
   "cell_type": "code",
   "execution_count": 3,
   "metadata": {},
   "outputs": [],
   "source": [
    "# FOURTH CELL\n",
    "##* Star class obj\n",
    "class star(object):\n",
    "#\t\tparam\tmass\tstar mass\n",
    "#\t\tparam\tlum\tstar luminosity\n",
    "# \t\tparam\tx,y \tstar coordinates in the field \t\n",
    "\tdef __init__(self,mass, lum, x ,y):\n",
    "\t\tself.m   = mass\t\t# star mass value\n",
    "\t\tself.lum = lum\t\t# star luminosity value\n",
    "\t\tself.x = x\t\t# star x coordinate\n",
    "\t\tself.y = y\t\t# star y coordinate\n",
    "\n",
    "##* Function to locate the stars\n",
    "#   It generates 2 arrays with the x and y position of each star\n",
    "#?  Da rigurdare bene\n",
    "#\tparam\tn\tnumber of stars\n",
    "#\n",
    "#\treturn\tX,Y\tstars coordinate arrays\n",
    "def star_location(n):\n",
    "\ttmp = np.random.default_rng()\n",
    "\tX = tmp.choice(N, size=n)\n",
    "\tY = tmp.choice(N, size=n, replace=False)\n",
    "\treturn X, Y\t\n",
    "\n",
    "##* Transfer function\n",
    "#   Converts luminosities in a scale from 0 to 1 for the function\n",
    "#   plt.imshow()\n",
    "# \tparam\tl\tluminosity array\n",
    "# \n",
    "# \treturn\tmag\tconverted magnitudes array   \n",
    "def transfer_function(l):\n",
    "\tinf = 9e-4; sup = 8000\n",
    "\tmag = (np.log10(l)-np.log10(inf))/(np.log10(sup)-np.log10(inf))\n",
    "\treturn np.where(mag<0,0,mag)\n",
    "\n",
    "def inverse_transfer_function(mag):\n",
    "\tsup = 8000\n",
    "\treturn sup**mag\n",
    "\n",
    "\n",
    "\n",
    "##* Function to update field with the stars\n",
    "#\tparam\tF\tfield matrix\n",
    "#\tparam\tX,Y\tcoordinate arrays\n",
    "#\tparam\tl\tluminosity array\n",
    "# \n",
    "# \treturn\tF\tupdated field matrix \n",
    "def exposure(F,X,Y,l):\n",
    "\tmag = transfer_function(l)\n",
    "\tfor i in range(3):\n",
    "\t\tF[X,Y,i] = mag\n",
    "\t# for i in range(dim):\n",
    "\t# \tF[X[i],Y[i],:] = transfer_function(val[i])\n",
    "\treturn F\n",
    "\n"
   ]
  },
  {
   "cell_type": "markdown",
   "metadata": {},
   "source": [
    "Fifth cell: I defined the inizialize function to set stars in field and the fov function to select a portion of the field"
   ]
  },
  {
   "cell_type": "code",
   "execution_count": 20,
   "metadata": {},
   "outputs": [
    {
     "name": "stdout",
     "output_type": "stream",
     "text": [
      "[7] [6]\n",
      "Error\n"
     ]
    },
    {
     "data": {
      "image/png": "[encoded data removed]",
      "text/plain": [
       "<Figure size 432x288 with 1 Axes>"
      ]
     },
     "metadata": {},
     "output_type": "display_data"
    },
    {
     "data": {
      "image/png": "[encoded data removed]",
      "text/plain": [
       "<Figure size 432x288 with 1 Axes>"
      ]
     },
     "metadata": {},
     "output_type": "display_data"
    }
   ],
   "source": [
    "# FIFTH CELL\n",
    "\n",
    "def initialize():\n",
    "\tF = np.zeros([N,N,3])\n",
    "\tm = generate_mass_array(IMF_min,IMF_max)\n",
    "\tL = m**beta\n",
    "\txs,ys = star_location(M)\n",
    "\tprint(xs,ys)\n",
    "\tF = exposure(F,xs,ys,L)\n",
    "\tS = star(m,L,xs,ys)\n",
    "\treturn F, S\n",
    "\n",
    "def fov(F,inf=[0,0],sup=[int(N/3),int(N/3)]):\n",
    "\tif((inf[0]<0) or (inf[1]<0) or (sup[0]>=N) or (sup[1]>=N)):\n",
    "\t\tprint('Error')\n",
    "\t\treturn F\n",
    "\treturn F[inf[0]:sup[0],inf[1]:sup[1],:] \n",
    "\n",
    "F, S = initialize()\n",
    "Ls = S.lum\n",
    "inf = [20,20]\n",
    "sup = [70,70]\n",
    "field = fov(F,inf,sup)\n",
    "\n",
    "plt.figure(1) \n",
    "plt.title(f'Source field with {M} stars')\n",
    "plt.imshow(F)\n",
    "plt.figure(2)\n",
    "plt.title(f'Source field with {M} stars: sector [{inf[0]},{inf[1]}] x [{sup[0]},{sup[1]}]')\n",
    "plt.imshow(field)\n",
    "plt.show()"
   ]
  },
  {
   "cell_type": "markdown",
   "metadata": {},
   "source": [
    "Sixth cell: "
   ]
  },
  {
   "cell_type": "code",
   "execution_count": 21,
   "metadata": {},
   "outputs": [
    {
     "data": {
      "image/png": "[encoded data removed]",
      "text/plain": [
       "<Figure size 432x288 with 1 Axes>"
      ]
     },
     "metadata": {},
     "output_type": "display_data"
    }
   ],
   "source": [
    "# SIXTH CELL\n",
    "def gaussian(n,xs,ys,sigma=2):\n",
    "\tx = np.arange(n,dtype=int)\n",
    "\ty = np.arange(n,dtype=int)\n",
    "\tx -= xs;  y -= ys\n",
    "\tG = lambda r : np.exp(-r**2/sigma**2/2)\n",
    "\treturn np.outer(G(x),G(y))/(max(G(x))*max(G(y)))\n",
    "\n",
    "def lorentzian(r,rs,a=4):\n",
    "\treturn 1/( (r-rs)**2 + a**2 )\n",
    "\n",
    "def atm_seeing(f,Xs,Ys,Ls):\n",
    "\tn = len(f)\n",
    "\tfG = np.zeros([n,n,3])\n",
    "\tdim = len(Xs)\n",
    "\tG = np.zeros([n,n])\n",
    "\tG = gaussian(n,Xs,Ys)*Ls\n",
    "#\tL = inverse_transfer_function(f[:,:,0])\n",
    "#\tL = fftconvolve(L,G,mode='same')\n",
    "\tfor i in range(3):\n",
    "\t \tf[:,:,i] = transfer_function(G)\n",
    "\treturn f\n",
    "# for j in range(dim):\n",
    "# \tG *= gaussian(Xs[j],Ys[j])\n",
    "# for i in range(3):\n",
    "# \tfG[:,:,i] = transfer_function(G)\n",
    "# return fftconvolve(f,fG,mode='same')\n",
    "\t\n",
    "\n",
    "plt.imshow(atm_seeing(field,S.x,S.y,S.lum))\n",
    "plt.show()\n",
    "\t\n",
    "\t"
   ]
  }
 ],
 "metadata": {
  "interpreter": {
   "hash": "acfa3814b7ad23a48d23eb256325201ba56e27002f80dd84657cbe2e83ce68d0"
  },
  "kernelspec": {
   "display_name": "Python 3.9.11 64-bit (windows store)",
   "language": "python",
   "name": "python3"
  },
  "language_info": {
   "codemirror_mode": {
    "name": "ipython",
    "version": 3
   },
   "file_extension": ".py",
   "mimetype": "text/x-python",
   "name": "python",
   "nbconvert_exporter": "python",
   "pygments_lexer": "ipython3",
   "version": "3.9.12"
  },
  "orig_nbformat": 4
 },
 "nbformat": 4,
 "nbformat_minor": 2
}
